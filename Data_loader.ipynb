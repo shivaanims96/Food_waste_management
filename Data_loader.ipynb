{
 "cells": [
  {
   "cell_type": "code",
   "execution_count": 1,
   "metadata": {},
   "outputs": [],
   "source": [
    "import pandas as pd\n",
    "import sqlite3"
   ]
  },
  {
   "cell_type": "code",
   "execution_count": 2,
   "metadata": {},
   "outputs": [],
   "source": [
    "providers = pd.read_csv(r'C:\\Users\\shiva\\OneDrive\\Documents\\Shivani\\Guvi\\Food_waste\\providers_data.csv')\n",
    "receivers = pd.read_csv(r'C:\\Users\\shiva\\OneDrive\\Documents\\Shivani\\Guvi\\Food_waste\\receivers_data.csv')\n",
    "food_listings = pd.read_csv(r'C:\\Users\\shiva\\OneDrive\\Documents\\Shivani\\Guvi\\Food_waste\\food_listings_data.csv')\n",
    "claims = pd.read_csv(r'C:\\Users\\shiva\\OneDrive\\Documents\\Shivani\\Guvi\\Food_waste\\claims_data.csv')\n",
    "\n",
    "providers.columns = [i.lower() for i in providers.columns]\n",
    "receivers.columns = [i.lower() for i in receivers.columns]\n",
    "food_listings.columns = [i.lower() for i in food_listings.columns]\n",
    "claims.columns = [i.lower() for i in claims.columns]"
   ]
  },
  {
   "cell_type": "code",
   "execution_count": 4,
   "metadata": {},
   "outputs": [
    {
     "name": "stdout",
     "output_type": "stream",
     "text": [
      "   provider_id              name         type  \\\n",
      "0            1  Gonzales-Cochran  Supermarket   \n",
      "\n",
      "                                             address         city contact  \n",
      "0  74347 Christopher Extensions\\nAndreamouth, OK ...  New Jessica   -1299  \n",
      "   receiver_id          name     type            city        contact\n",
      "0            1  Donald Gomez  Shelter  Port Carlburgh  (955)922-5295\n",
      "   food_id food_name  quantity expiry_date  provider_id  provider_type  \\\n",
      "0        1     Bread        43   3/17/2025          110  Grocery Store   \n",
      "\n",
      "           location       food_type  meal_type  \n",
      "0  South Kellyville  Non-Vegetarian  Breakfast  \n",
      "   claim_id  food_id  receiver_id   status      timestamp\n",
      "0         1      164          908  Pending  3/5/2025 5:26\n"
     ]
    }
   ],
   "source": [
    "print(providers.head(1))\n",
    "print(receivers.head(1))\n",
    "print(food_listings.head(1))\n",
    "print(claims.head(1))"
   ]
  },
  {
   "cell_type": "code",
   "execution_count": 7,
   "metadata": {},
   "outputs": [],
   "source": [
    "def drop_table(drop_table_arg, db):\n",
    "    try:\n",
    "        conn = sqlite3.connect(db)\n",
    "        cursor = conn.cursor()\n",
    "        cursor.execute(drop_table_arg)\n",
    "        conn.commit()\n",
    "    except sqlite3.Error as e:\n",
    "        return f\"An error occurred: {e}\"\n",
    "        conn.rollback()\n",
    "    finally:\n",
    "        cursor.close()\n",
    "        conn.close()\n",
    "     \n",
    "    return \"Dropped successfully.\""
   ]
  },
  {
   "cell_type": "code",
   "execution_count": 8,
   "metadata": {},
   "outputs": [],
   "source": [
    "def create_table_func(create_table_arg,db):\n",
    "     try :\n",
    "          conn = sqlite3.connect(db)\n",
    "          cursor = conn.cursor()\n",
    "          cursor.execute(create_table_arg)\n",
    "          conn.commit()\n",
    "     except sqlite3.Error as e:\n",
    "          return f\"An error occurred: {e}\"\n",
    "          conn.rollback()\n",
    "     finally:\n",
    "          cursor.close()\n",
    "          conn.close()\n",
    "     \n",
    "     return \"Table Created successfully.\""
   ]
  },
  {
   "cell_type": "code",
   "execution_count": 9,
   "metadata": {},
   "outputs": [],
   "source": [
    "def insert_sql(table_name, db, dfs):\n",
    "    try :\n",
    "          conn = sqlite3.connect(db)\n",
    "          cursor = conn.cursor()\n",
    "          dfs.to_sql(table_name,conn,if_exists='append',index=False)\n",
    "          conn.commit()\n",
    "    except sqlite3.Error as e:\n",
    "        return f\"An error occurred: {e}\"\n",
    "        conn.rollback()\n",
    "    finally:\n",
    "        cursor.close()\n",
    "        conn.close()\n",
    "     \n",
    "    return \"Records Inserted successfully.\"\n",
    "\n"
   ]
  },
  {
   "cell_type": "code",
   "execution_count": null,
   "metadata": {},
   "outputs": [],
   "source": [
    "providers_drop = '''drop table if exists providers;'''\n",
    "receivers_drop = '''drop table if exists receivers;'''\n",
    "claims_drop = '''drop table if exists claims;'''\n",
    "food_listings_data_drop = '''drop table if exists food_listings;'''\n",
    "\n",
    "providers_create = ''' CREATE TABLE IF NOT EXISTS providers (\n",
    "                              provider_id INTEGER UNIQUE PRIMARY KEY,\n",
    "                              name string,\n",
    "                              type string,\n",
    "                              address string,\n",
    "                              city  string,\n",
    "                              contact string\n",
    "                         )\n",
    "                         '''\n",
    "\n",
    "receivers_create = \"\"\"CREATE TABLE IF NOT EXISTS receivers (\n",
    "                      receiver_id INTEGER UNIQUE PRIMARY KEY,\n",
    "                      name string,\n",
    "                      type string,\n",
    "                      city string,\n",
    "                      contact string \n",
    "\t\t\n",
    ")\n",
    "\"\"\"\n",
    "\n",
    "claims_create = \"\"\"\n",
    "create table if not exists claims\n",
    "(\n",
    "claim_id integer unique primary key,\n",
    "food_id integer,\n",
    "receiver_id integer,\n",
    "status string,\n",
    "timestamp timestamp\n",
    ")\n",
    "\"\"\"\n",
    "\n",
    "food_listings_data_create = \"\"\"\n",
    "create table if not exists food_listings\n",
    "(\n",
    "food_id integer unique primary key,\n",
    "food_name varchar(50),\n",
    "quantity varchar(50),\n",
    "expiry_date varchar(50),\n",
    "provider_id varchar(50),\n",
    "provider_type varchar(50),\n",
    "location varchar(50),\n",
    "food_type varchar(50),\n",
    "meal_type varchar(50)\n",
    ")\n",
    "\"\"\""
   ]
  },
  {
   "cell_type": "code",
   "execution_count": 36,
   "metadata": {},
   "outputs": [
    {
     "name": "stdout",
     "output_type": "stream",
     "text": [
      "Dropped successfully.\n",
      "Dropped successfully.\n",
      "Dropped successfully.\n",
      "Dropped successfully.\n"
     ]
    }
   ],
   "source": [
    "print(drop_table(providers_drop,'food_wastage.db'))\n",
    "print(drop_table(receivers_drop, 'food_wastage.db'))\n",
    "print(drop_table(claims_drop, 'food_wastage.db') )\n",
    "print(drop_table(food_listings_data_drop, 'food_wastage.db') )"
   ]
  },
  {
   "cell_type": "code",
   "execution_count": 40,
   "metadata": {},
   "outputs": [
    {
     "name": "stdout",
     "output_type": "stream",
     "text": [
      "Table Created successfully.\n",
      "Table Created successfully.\n",
      "Table Created successfully.\n",
      "Table Created successfully.\n"
     ]
    }
   ],
   "source": [
    "print(create_table_func(providers_create,'food_wastage.db'))\n",
    "print(create_table_func(receivers_create,'food_wastage.db'))\n",
    "print(create_table_func(claims_create,'food_wastage.db'))\n",
    "print(create_table_func(food_listings_data_create,'food_wastage.db'))"
   ]
  },
  {
   "cell_type": "code",
   "execution_count": 41,
   "metadata": {},
   "outputs": [
    {
     "name": "stdout",
     "output_type": "stream",
     "text": [
      "Records Inserted successfully.\n",
      "Records Inserted successfully.\n",
      "Records Inserted successfully.\n",
      "Records Inserted successfully.\n"
     ]
    }
   ],
   "source": [
    "print(insert_sql('providers','food_wastage.db',providers))\n",
    "print(insert_sql('receivers','food_wastage.db',receivers))\n",
    "print(insert_sql('claims','food_wastage.db',claims))\n",
    "print(insert_sql('food_listings','food_wastage.db',food_listings))\n"
   ]
  }
 ],
 "metadata": {
  "kernelspec": {
   "display_name": "base",
   "language": "python",
   "name": "python3"
  },
  "language_info": {
   "codemirror_mode": {
    "name": "ipython",
    "version": 3
   },
   "file_extension": ".py",
   "mimetype": "text/x-python",
   "name": "python",
   "nbconvert_exporter": "python",
   "pygments_lexer": "ipython3",
   "version": "3.12.7"
  }
 },
 "nbformat": 4,
 "nbformat_minor": 2
}
